{
  "cells": [
    {
      "cell_type": "markdown",
      "metadata": {
        "id": "20IwI8hU3Qot"
      },
      "source": [
        "# 1. Parallel data processing\n"
      ]
    },
    {
      "cell_type": "markdown",
      "metadata": {
        "id": "jLkMAuve2BTg"
      },
      "source": [
        "## 1.1 Configuración y carga de datos en PySpark"
      ]
    },
    {
      "cell_type": "markdown",
      "metadata": {
        "id": "uXvfcRVR2fob"
      },
      "source": [
        "###Paso 1: Configuración del entorno de PySpark en Colab"
      ]
    },
    {
      "cell_type": "code",
      "execution_count": 5,
      "metadata": {
        "colab": {
          "base_uri": "https://localhost:8080/",
          "height": 325
        },
        "id": "UOO4MwoP194a",
        "outputId": "9a457ba6-8ab5-4737-a7e3-905642ce27f1"
      },
      "outputs": [
        {
          "name": "stdout",
          "output_type": "stream",
          "text": [
            "\u001b[33m\r0% [Working]\u001b[0m\r            \rHit:1 https://cloud.r-project.org/bin/linux/ubuntu jammy-cran40/ InRelease\n",
            "\u001b[33m\r0% [Waiting for headers] [Connecting to security.ubuntu.com (185.125.190.39)] [\u001b[0m\r                                                                               \rHit:2 http://archive.ubuntu.com/ubuntu jammy InRelease\n",
            "\u001b[33m\r0% [Connecting to security.ubuntu.com (185.125.190.39)] [Connecting to ppa.laun\u001b[0m\r                                                                               \rHit:3 https://developer.download.nvidia.com/compute/cuda/repos/ubuntu2204/x86_64  InRelease\n",
            "\u001b[33m\r0% [Waiting for headers] [Connecting to security.ubuntu.com (185.125.190.39)] [\u001b[0m\r                                                                               \rHit:4 http://archive.ubuntu.com/ubuntu jammy-updates InRelease\n",
            "\u001b[33m\r0% [Waiting for headers] [Waiting for headers] [Connecting to ppa.launchpadcont\u001b[0m\u001b[33m\r0% [Waiting for headers] [Waiting for headers] [Connecting to ppa.launchpadcont\u001b[0m\r                                                                               \rHit:5 http://archive.ubuntu.com/ubuntu jammy-backports InRelease\n",
            "Hit:6 http://security.ubuntu.com/ubuntu jammy-security InRelease\n",
            "Hit:7 https://ppa.launchpadcontent.net/c2d4u.team/c2d4u4.0+/ubuntu jammy InRelease\n",
            "Hit:8 https://ppa.launchpadcontent.net/deadsnakes/ppa/ubuntu jammy InRelease\n",
            "Hit:9 https://ppa.launchpadcontent.net/graphics-drivers/ppa/ubuntu jammy InRelease\n",
            "Hit:10 https://ppa.launchpadcontent.net/ubuntugis/ppa/ubuntu jammy InRelease\n",
            "Reading package lists... Done\n",
            "Building dependency tree... Done\n",
            "Reading state information... Done\n",
            "19 packages can be upgraded. Run 'apt list --upgradable' to see them.\n",
            "Requirement already satisfied: pyspark in /usr/local/lib/python3.10/dist-packages (3.5.0)\n",
            "Requirement already satisfied: py4j==0.10.9.7 in /usr/local/lib/python3.10/dist-packages (from pyspark) (0.10.9.7)\n"
          ]
        },
        {
          "data": {
            "application/vnd.google.colaboratory.intrinsic+json": {
              "type": "string"
            },
            "text/plain": [
              "'/content/spark-3.5.0-bin-hadoop3'"
            ]
          },
          "execution_count": 5,
          "metadata": {},
          "output_type": "execute_result"
        }
      ],
      "source": [
        "#Bibliotecas para poder trabajar con Spark\n",
        "!sudo apt update\n",
        "!apt-get install openjdk-8-jdk-headless -qq > /dev/null\n",
        "!wget -q https://dlcdn.apache.org/spark/spark-3.5.0/spark-3.5.0-bin-hadoop3.tgz\n",
        "\n",
        "!tar xf spark-3.5.0-bin-hadoop3.tgz\n",
        "\n",
        "#Configuración de Spark con Python\n",
        "!pip install -q findspark\n",
        "!pip install pyspark\n",
        "\n",
        "#Estableciendo variable de entorno\n",
        "import os\n",
        "os.environ[\"JAVA_HOME\"] = \"/usr/lib/jvm/java-8-openjdk-amd64\"\n",
        "os.environ[\"SPARK_HOME\"] = \"/content/spark-3.5.0-bin-hadoop3\"\n",
        "\n",
        "#Buscando e inicializando la instalación de Spark\n",
        "import findspark\n",
        "findspark.init()\n",
        "findspark.find()"
      ]
    },
    {
      "cell_type": "markdown",
      "metadata": {},
      "source": [
        "## Esto no, porque se corrio en ambiente local"
      ]
    },
    {
      "cell_type": "markdown",
      "metadata": {
        "id": "_qtFuZMw2CEo"
      },
      "source": [
        "###Paso 2: Crear la sesión de trabajo de Spark"
      ]
    },
    {
      "cell_type": "code",
      "execution_count": 1,
      "metadata": {
        "id": "ls8g7eJP2-tY"
      },
      "outputs": [
        {
          "name": "stderr",
          "output_type": "stream",
          "text": [
            "your 131072x1 screen size is bogus. expect trouble\n",
            "23/11/06 17:50:59 WARN Utils: Your hostname, Nitro-Andre resolves to a loopback address: 127.0.1.1; using 172.22.45.199 instead (on interface eth0)\n",
            "23/11/06 17:50:59 WARN Utils: Set SPARK_LOCAL_IP if you need to bind to another address\n",
            "Setting default log level to \"WARN\".\n",
            "To adjust logging level use sc.setLogLevel(newLevel). For SparkR, use setLogLevel(newLevel).\n",
            "23/11/06 17:51:01 WARN NativeCodeLoader: Unable to load native-hadoop library for your platform... using builtin-java classes where applicable\n"
          ]
        }
      ],
      "source": [
        "#Verificar la funcionalidad de Pyspark\n",
        "from pyspark import SparkContext, SparkConf\n",
        "from pyspark.sql import SparkSession\n",
        "\n",
        "sc = SparkContext.getOrCreate(SparkConf().setMaster(\"local[*]\"))\n",
        "\n",
        "spark = SparkSession \\\n",
        "    .builder \\\n",
        "    .getOrCreate()"
      ]
    },
    {
      "cell_type": "markdown",
      "metadata": {
        "id": "xO_FPJnpfpX7"
      },
      "source": [
        "## 1.2 Procesamiento en Nodos"
      ]
    },
    {
      "cell_type": "markdown",
      "metadata": {
        "id": "sagP7uSS2CIW"
      },
      "source": [
        "###Paso 3: Crear una RDD para poder paralelizar (Compute Nodes, Worker Nodes)\n",
        "\n",
        "- Las RDD se pueden crear para diferentes propósitos, como en el uso de listas o arreglos.\n",
        "- Para fines ilustrativos en este ejemplo se crea una RDD para generar una lista de enteros (integers) que van de 0 a 99.\n"
      ]
    },
    {
      "cell_type": "code",
      "execution_count": 2,
      "metadata": {
        "colab": {
          "base_uri": "https://localhost:8080/"
        },
        "id": "tf42-JWa5coW",
        "outputId": "da32c4b3-fbc2-4395-83b8-3f8d64a026b7"
      },
      "outputs": [
        {
          "data": {
            "text/plain": [
              "PythonRDD[1] at RDD at PythonRDD.scala:53"
            ]
          },
          "execution_count": 2,
          "metadata": {},
          "output_type": "execute_result"
        }
      ],
      "source": [
        "rdd = sc.parallelize(range(100))\n",
        "rdd"
      ]
    },
    {
      "cell_type": "markdown",
      "metadata": {
        "id": "3km4eIl07Zxm"
      },
      "source": [
        "- Posteriomente se pueden contar todos los elementos de la lista\n",
        "  * Cuando se ejecuta la función \"count\" internamente se crean diferentes tareas en spark que se ejecutan de manera paralela en los clusters (nodos)."
      ]
    },
    {
      "cell_type": "code",
      "execution_count": 3,
      "metadata": {
        "colab": {
          "base_uri": "https://localhost:8080/"
        },
        "id": "DsXFpRoh5ct0",
        "outputId": "dbd126ee-c85a-4996-be81-8b4ca52754ec"
      },
      "outputs": [
        {
          "name": "stderr",
          "output_type": "stream",
          "text": [
            "                                                                                \r"
          ]
        },
        {
          "data": {
            "text/plain": [
              "100"
            ]
          },
          "execution_count": 3,
          "metadata": {},
          "output_type": "execute_result"
        }
      ],
      "source": [
        "rdd.count()"
      ]
    },
    {
      "cell_type": "markdown",
      "metadata": {
        "id": "v0ySIzt392BO"
      },
      "source": [
        "- Se pueden mostrar los primeros 10 elementos de la lista"
      ]
    },
    {
      "cell_type": "code",
      "execution_count": 4,
      "metadata": {
        "colab": {
          "base_uri": "https://localhost:8080/"
        },
        "id": "UcqV3_40-PrI",
        "outputId": "ee669b99-14bb-4085-b85a-3929557f7212"
      },
      "outputs": [
        {
          "data": {
            "text/plain": [
              "[0,\n",
              " 1,\n",
              " 2,\n",
              " 3,\n",
              " 4,\n",
              " 5,\n",
              " 6,\n",
              " 7,\n",
              " 8,\n",
              " 9,\n",
              " 10,\n",
              " 11,\n",
              " 12,\n",
              " 13,\n",
              " 14,\n",
              " 15,\n",
              " 16,\n",
              " 17,\n",
              " 18,\n",
              " 19,\n",
              " 20,\n",
              " 21,\n",
              " 22,\n",
              " 23,\n",
              " 24,\n",
              " 25,\n",
              " 26,\n",
              " 27,\n",
              " 28,\n",
              " 29]"
            ]
          },
          "execution_count": 4,
          "metadata": {},
          "output_type": "execute_result"
        }
      ],
      "source": [
        "rdd.take(30)"
      ]
    },
    {
      "cell_type": "markdown",
      "metadata": {
        "id": "8bDcsru3-Tyz"
      },
      "source": [
        "- Se puede copiar el contenido completo de la lista al drive (nodo) local de Apache Spark.\n",
        "  * NOTA: Se hace con RDD's pequeños, de lo contrario se puede agotar la memoria local."
      ]
    },
    {
      "cell_type": "code",
      "execution_count": 5,
      "metadata": {
        "colab": {
          "base_uri": "https://localhost:8080/"
        },
        "id": "f7zA-o_J5dEb",
        "outputId": "ac15cf13-d215-4214-c9c6-4d842af2cf8b"
      },
      "outputs": [
        {
          "data": {
            "text/plain": [
              "[0,\n",
              " 1,\n",
              " 2,\n",
              " 3,\n",
              " 4,\n",
              " 5,\n",
              " 6,\n",
              " 7,\n",
              " 8,\n",
              " 9,\n",
              " 10,\n",
              " 11,\n",
              " 12,\n",
              " 13,\n",
              " 14,\n",
              " 15,\n",
              " 16,\n",
              " 17,\n",
              " 18,\n",
              " 19,\n",
              " 20,\n",
              " 21,\n",
              " 22,\n",
              " 23,\n",
              " 24,\n",
              " 25,\n",
              " 26,\n",
              " 27,\n",
              " 28,\n",
              " 29,\n",
              " 30,\n",
              " 31,\n",
              " 32,\n",
              " 33,\n",
              " 34,\n",
              " 35,\n",
              " 36,\n",
              " 37,\n",
              " 38,\n",
              " 39,\n",
              " 40,\n",
              " 41,\n",
              " 42,\n",
              " 43,\n",
              " 44,\n",
              " 45,\n",
              " 46,\n",
              " 47,\n",
              " 48,\n",
              " 49,\n",
              " 50,\n",
              " 51,\n",
              " 52,\n",
              " 53,\n",
              " 54,\n",
              " 55,\n",
              " 56,\n",
              " 57,\n",
              " 58,\n",
              " 59,\n",
              " 60,\n",
              " 61,\n",
              " 62,\n",
              " 63,\n",
              " 64,\n",
              " 65,\n",
              " 66,\n",
              " 67,\n",
              " 68,\n",
              " 69,\n",
              " 70,\n",
              " 71,\n",
              " 72,\n",
              " 73,\n",
              " 74,\n",
              " 75,\n",
              " 76,\n",
              " 77,\n",
              " 78,\n",
              " 79,\n",
              " 80,\n",
              " 81,\n",
              " 82,\n",
              " 83,\n",
              " 84,\n",
              " 85,\n",
              " 86,\n",
              " 87,\n",
              " 88,\n",
              " 89,\n",
              " 90,\n",
              " 91,\n",
              " 92,\n",
              " 93,\n",
              " 94,\n",
              " 95,\n",
              " 96,\n",
              " 97,\n",
              " 98,\n",
              " 99]"
            ]
          },
          "execution_count": 5,
          "metadata": {},
          "output_type": "execute_result"
        }
      ],
      "source": [
        "rdd.collect()"
      ]
    },
    {
      "cell_type": "markdown",
      "metadata": {
        "id": "rFRZPsBHg9a9"
      },
      "source": [
        "# 2. Cálculo de la Covarianza y la Correlación"
      ]
    },
    {
      "cell_type": "markdown",
      "metadata": {
        "id": "6dn4FGs9iV39"
      },
      "source": [
        "##2.1 Cálculo de la covarianza y correlación"
      ]
    },
    {
      "cell_type": "markdown",
      "metadata": {
        "id": "l9g1EixNlNpA"
      },
      "source": [
        "###Paso 3: Cálculo de la covarianza \"manualmente\" (sin uso de funciones internas predefinidas)"
      ]
    },
    {
      "cell_type": "markdown",
      "metadata": {
        "id": "bC1lwWZni32-"
      },
      "source": [
        "- Se generan datos que aleatorios para la sesión de trabajo"
      ]
    },
    {
      "cell_type": "code",
      "execution_count": 6,
      "metadata": {
        "colab": {
          "base_uri": "https://localhost:8080/"
        },
        "id": "xLCVjTROi_RX",
        "outputId": "0eaae1d8-c2a9-4445-8910-b7256a63af22"
      },
      "outputs": [
        {
          "data": {
            "text/plain": [
              "ParallelCollectionRDD[5] at readRDDFromFile at PythonRDD.scala:287"
            ]
          },
          "execution_count": 6,
          "metadata": {},
          "output_type": "execute_result"
        }
      ],
      "source": [
        "import random\n",
        "rddX = sc.parallelize(random.sample(list(range(100)),100))\n",
        "rddY = sc.parallelize(random.sample(list(range(100)),100))\n",
        "rddX"
      ]
    },
    {
      "cell_type": "code",
      "execution_count": 7,
      "metadata": {
        "colab": {
          "base_uri": "https://localhost:8080/"
        },
        "id": "FzqKtF5gtXDb",
        "outputId": "c4d9261d-39e6-4822-858f-49126eb10c71"
      },
      "outputs": [
        {
          "data": {
            "text/plain": [
              "[56,\n",
              " 25,\n",
              " 91,\n",
              " 28,\n",
              " 38,\n",
              " 0,\n",
              " 15,\n",
              " 5,\n",
              " 37,\n",
              " 40,\n",
              " 79,\n",
              " 54,\n",
              " 71,\n",
              " 82,\n",
              " 32,\n",
              " 52,\n",
              " 65,\n",
              " 36,\n",
              " 31,\n",
              " 3,\n",
              " 72,\n",
              " 87,\n",
              " 48,\n",
              " 69,\n",
              " 45,\n",
              " 29,\n",
              " 77,\n",
              " 6,\n",
              " 97,\n",
              " 49,\n",
              " 76,\n",
              " 18,\n",
              " 66,\n",
              " 35,\n",
              " 4,\n",
              " 83,\n",
              " 11,\n",
              " 20,\n",
              " 86,\n",
              " 62,\n",
              " 88,\n",
              " 96,\n",
              " 23,\n",
              " 59,\n",
              " 33,\n",
              " 98,\n",
              " 14,\n",
              " 22,\n",
              " 24,\n",
              " 74,\n",
              " 93,\n",
              " 53,\n",
              " 61,\n",
              " 30,\n",
              " 80,\n",
              " 16,\n",
              " 2,\n",
              " 19,\n",
              " 99,\n",
              " 46,\n",
              " 81,\n",
              " 73,\n",
              " 44,\n",
              " 41,\n",
              " 95,\n",
              " 92,\n",
              " 1,\n",
              " 13,\n",
              " 55,\n",
              " 60,\n",
              " 68,\n",
              " 57,\n",
              " 90,\n",
              " 47,\n",
              " 43,\n",
              " 17,\n",
              " 78,\n",
              " 7,\n",
              " 34,\n",
              " 12,\n",
              " 50,\n",
              " 70,\n",
              " 75,\n",
              " 89,\n",
              " 67,\n",
              " 42,\n",
              " 8,\n",
              " 64,\n",
              " 27,\n",
              " 63,\n",
              " 39,\n",
              " 9,\n",
              " 10,\n",
              " 51,\n",
              " 26,\n",
              " 58,\n",
              " 84,\n",
              " 94,\n",
              " 85,\n",
              " 21]"
            ]
          },
          "execution_count": 7,
          "metadata": {},
          "output_type": "execute_result"
        }
      ],
      "source": [
        "rddZ = random.sample(list(range(100)),100)\n",
        "rddZ"
      ]
    },
    {
      "cell_type": "markdown",
      "metadata": {
        "id": "H1Ac2kJYjtd0"
      },
      "source": [
        "- Se calcúla la media de cada uno de estos grupos de datos"
      ]
    },
    {
      "cell_type": "code",
      "execution_count": 8,
      "metadata": {
        "colab": {
          "base_uri": "https://localhost:8080/"
        },
        "id": "5aow_-Zhj5TO",
        "outputId": "f743fe05-de42-4f1c-d0ec-71a11798fcee"
      },
      "outputs": [
        {
          "name": "stdout",
          "output_type": "stream",
          "text": [
            "49.5\n",
            "49.5\n"
          ]
        }
      ],
      "source": [
        "meanX = rddX.sum()/float(rddX.count())\n",
        "meanY = rddY.sum()/float(rddY.count())\n",
        "print (meanX)\n",
        "print (meanY)"
      ]
    },
    {
      "cell_type": "markdown",
      "metadata": {
        "id": "arSmuGrgkEUj"
      },
      "source": [
        "- Ahora es posible calcular la covarianza \"manualmente\"\n",
        "\n",
        "Zips this RDD with another one, returning key-value pairs with the\n",
        "first element in each RDD second element in each RDD, etc. Assumes\n",
        "that the two RDDs have the same number of partitions and the same\n",
        "number of elements in each partition (e.g. one was made through\n",
        "a map on the other)."
      ]
    },
    {
      "cell_type": "code",
      "execution_count": 9,
      "metadata": {
        "colab": {
          "base_uri": "https://localhost:8080/"
        },
        "id": "2_6WJDaSke-y",
        "outputId": "681b4ce6-c265-4a76-8959-ea25a789c971"
      },
      "outputs": [
        {
          "data": {
            "text/plain": [
              "[(20, 25),\n",
              " (29, 65),\n",
              " (98, 86),\n",
              " (34, 98),\n",
              " (97, 27),\n",
              " (95, 48),\n",
              " (48, 93),\n",
              " (27, 69),\n",
              " (62, 55),\n",
              " (12, 95),\n",
              " (23, 62),\n",
              " (22, 39),\n",
              " (46, 18),\n",
              " (30, 4),\n",
              " (81, 85),\n",
              " (55, 38),\n",
              " (89, 87),\n",
              " (36, 7),\n",
              " (25, 21),\n",
              " (59, 14),\n",
              " (21, 41),\n",
              " (14, 92),\n",
              " (4, 50),\n",
              " (63, 96),\n",
              " (6, 2),\n",
              " (33, 3),\n",
              " (94, 30),\n",
              " (11, 58),\n",
              " (75, 44),\n",
              " (88, 60),\n",
              " (26, 45),\n",
              " (32, 11),\n",
              " (80, 64),\n",
              " (70, 68),\n",
              " (31, 29),\n",
              " (1, 75),\n",
              " (52, 76),\n",
              " (61, 12),\n",
              " (83, 91),\n",
              " (9, 88),\n",
              " (0, 49),\n",
              " (49, 20),\n",
              " (47, 52),\n",
              " (53, 51),\n",
              " (54, 9),\n",
              " (37, 22),\n",
              " (35, 16),\n",
              " (68, 33),\n",
              " (41, 19),\n",
              " (91, 54),\n",
              " (56, 99),\n",
              " (73, 57),\n",
              " (18, 81),\n",
              " (3, 47),\n",
              " (66, 23),\n",
              " (5, 43),\n",
              " (76, 0),\n",
              " (71, 5),\n",
              " (84, 61),\n",
              " (90, 35),\n",
              " (16, 40),\n",
              " (13, 53),\n",
              " (44, 6),\n",
              " (60, 67),\n",
              " (38, 94),\n",
              " (96, 63),\n",
              " (64, 84),\n",
              " (39, 15),\n",
              " (58, 72),\n",
              " (93, 80),\n",
              " (51, 26),\n",
              " (86, 10),\n",
              " (40, 34),\n",
              " (69, 97),\n",
              " (74, 79),\n",
              " (42, 70),\n",
              " (10, 36),\n",
              " (65, 32),\n",
              " (82, 77),\n",
              " (45, 31),\n",
              " (92, 74),\n",
              " (43, 56),\n",
              " (67, 8),\n",
              " (2, 28),\n",
              " (57, 59),\n",
              " (72, 13),\n",
              " (79, 66),\n",
              " (99, 17),\n",
              " (87, 90),\n",
              " (77, 83),\n",
              " (28, 78),\n",
              " (15, 37),\n",
              " (19, 82),\n",
              " (50, 71),\n",
              " (8, 89),\n",
              " (24, 46),\n",
              " (17, 24),\n",
              " (7, 1),\n",
              " (85, 73),\n",
              " (78, 42)]"
            ]
          },
          "execution_count": 9,
          "metadata": {},
          "output_type": "execute_result"
        }
      ],
      "source": [
        "rddXY = rddX.zip(rddY)\n",
        "rddXY.collect()\n"
      ]
    },
    {
      "cell_type": "markdown",
      "metadata": {
        "id": "_V68kTkBeWTm"
      },
      "source": [
        "Pearson's correlation coefficient is the covariance of the two variables divided by the product of their standard deviations.\n",
        "${\\displaystyle \\rho _{X,Y}={\\frac {\\operatorname {cov} (X,Y)}{\\sigma _{X}\\sigma _{Y}}}}$\n",
        "\n",
        "$cov_{x,y}=\\frac{\\sum(x_{i}-\\bar{x})(y_{i}-\\bar{y})}{N}$"
      ]
    },
    {
      "cell_type": "markdown",
      "metadata": {
        "id": "OLKRE9y7UxkQ"
      },
      "source": [
        "map: Return a new RDD by applying a function to each element of this RDD. Examples\n",
        "rdd = sc.parallelize([\"b\", \"a\", \"c\"])\n",
        "\n",
        "sorted(rdd.map(lambda x: (x, 1)).collect())\n",
        "\n",
        "[('a', 1), ('b', 1), ('c', 1)]"
      ]
    },
    {
      "cell_type": "code",
      "execution_count": 10,
      "metadata": {
        "colab": {
          "base_uri": "https://localhost:8080/"
        },
        "id": "Fl6ulGCcvD-t",
        "outputId": "b6e6c4a9-8be1-47a6-e3d2-b5540feb4fdc"
      },
      "outputs": [
        {
          "data": {
            "text/plain": [
              "90.38"
            ]
          },
          "execution_count": 10,
          "metadata": {},
          "output_type": "execute_result"
        }
      ],
      "source": [
        "covXY = rddXY.map(lambda x_y : (x_y[0]-meanX)*(x_y[1]-meanY)).sum()/rddXY.count()\n",
        "covXY"
      ]
    },
    {
      "cell_type": "markdown",
      "metadata": {
        "id": "i_VXsQBwkyyV"
      },
      "source": [
        "###Paso 4: Cálculo de la correlación \"manualmente\" (sin uso de funciones internas predefinidas)\n",
        "\n",
        "- Para calcular la correlación primero se estiman las desviaciones estandar.\n",
        "$\\sigma={\\sqrt {\\frac {\\sum(x_{i}-{\\mu})^{2}}{N}}}$"
      ]
    },
    {
      "cell_type": "code",
      "execution_count": 11,
      "metadata": {
        "colab": {
          "base_uri": "https://localhost:8080/"
        },
        "id": "3IsdKWtGkxGS",
        "outputId": "5e2a0124-3eaf-4a25-8121-0af8eabe50c7"
      },
      "outputs": [
        {
          "name": "stdout",
          "output_type": "stream",
          "text": [
            "28.86607004772212\n",
            "28.86607004772212\n"
          ]
        }
      ],
      "source": [
        "from math import sqrt\n",
        "n = rddXY.count()\n",
        "sdX = sqrt(rddX.map(lambda x : pow(x-meanX,2)).sum()/n)\n",
        "sdY = sqrt(rddY.map(lambda x : pow(x-meanY,2)).sum()/n)\n",
        "print (sdX)\n",
        "print (sdY)"
      ]
    },
    {
      "cell_type": "markdown",
      "metadata": {
        "id": "MraZgp8BmGoN"
      },
      "source": [
        "- Ahora es posible calcular la correlación"
      ]
    },
    {
      "cell_type": "code",
      "execution_count": 12,
      "metadata": {
        "colab": {
          "base_uri": "https://localhost:8080/"
        },
        "id": "MZR4yJ7ikCD0",
        "outputId": "15bf795a-e99c-4d64-a4c5-96df2169d34b"
      },
      "outputs": [
        {
          "data": {
            "text/plain": [
              "0.10846684668466847"
            ]
          },
          "execution_count": 12,
          "metadata": {},
          "output_type": "execute_result"
        }
      ],
      "source": [
        "corrXY = covXY / (sdX * sdY)\n",
        "corrXY"
      ]
    },
    {
      "cell_type": "markdown",
      "metadata": {
        "id": "xK44o7KCaU6A"
      },
      "source": [
        "###Paso 5: Cálculo de la correlación usando la función corr()"
      ]
    },
    {
      "cell_type": "code",
      "execution_count": 13,
      "metadata": {
        "colab": {
          "base_uri": "https://localhost:8080/"
        },
        "id": "CZF1MeJZaAW9",
        "outputId": "c974870a-67ac-41a1-bb3e-d9ce17dbd08e"
      },
      "outputs": [
        {
          "name": "stderr",
          "output_type": "stream",
          "text": [
            "[Stage 18:>                                                       (0 + 12) / 12]\r"
          ]
        },
        {
          "name": "stdout",
          "output_type": "stream",
          "text": [
            "[[1.         0.10846685]\n",
            " [0.10846685 1.        ]]\n"
          ]
        },
        {
          "name": "stderr",
          "output_type": "stream",
          "text": [
            "23/11/06 17:51:39 WARN InstanceBuilder: Failed to load implementation from:dev.ludovic.netlib.blas.JNIBLAS\n",
            "                                                                                \r"
          ]
        }
      ],
      "source": [
        "from pyspark.mllib.stat import Statistics\n",
        "data_corr1 = Statistics.corr(rddXY)\n",
        "print(data_corr1)"
      ]
    },
    {
      "cell_type": "markdown",
      "metadata": {
        "id": "YvCeHpk6nBx6"
      },
      "source": [
        "###Paso 6: Ejemplo adicional del cálculo de la correlación usando la función corr(). Una mejor visualización en Pandas y Spark"
      ]
    },
    {
      "cell_type": "markdown",
      "metadata": {
        "id": "0bFTx0FrngsO"
      },
      "source": [
        "- Se generan datos que aleatorios para la sesión de trabajo"
      ]
    },
    {
      "cell_type": "code",
      "execution_count": 15,
      "metadata": {
        "colab": {
          "base_uri": "https://localhost:8080/"
        },
        "id": "Ff23tcirnUFv",
        "outputId": "4630aac2-6c95-4411-ac1e-2073eacc2bcb"
      },
      "outputs": [
        {
          "data": {
            "text/plain": [
              "[(60, 160, 39, 52),\n",
              " (61, 161, 38, 13),\n",
              " (62, 162, 37, 54),\n",
              " (63, 163, 36, 2),\n",
              " (64, 164, 35, 92),\n",
              " (65, 165, 34, 3),\n",
              " (66, 166, 33, 42),\n",
              " (67, 167, 32, 62),\n",
              " (68, 168, 31, 85),\n",
              " (69, 169, 30, 73),\n",
              " (70, 170, 29, 50),\n",
              " (71, 171, 28, 72),\n",
              " (72, 172, 27, 56),\n",
              " (73, 173, 26, 77),\n",
              " (74, 174, 25, 68),\n",
              " (75, 175, 24, 0),\n",
              " (76, 176, 23, 98),\n",
              " (77, 177, 22, 80),\n",
              " (78, 178, 21, 40),\n",
              " (79, 179, 20, 19)]"
            ]
          },
          "execution_count": 15,
          "metadata": {},
          "output_type": "execute_result"
        }
      ],
      "source": [
        "import random\n",
        "column1 = sc.parallelize(range(100), numSlices=10)\n",
        "column2 = sc.parallelize(range(100,200), numSlices=10)\n",
        "column3 = sc.parallelize(list(reversed(range(100))), numSlices=10)\n",
        "column4 = sc.parallelize(random.sample(range(100),100), numSlices=10)\n",
        "\n",
        "# Asegurándonos de que todos los RDDs tienen el mismo número de particiones y elementos por partición\n",
        "column1 = column1.repartition(10)\n",
        "column2 = column2.repartition(10)\n",
        "column3 = column3.repartition(10)\n",
        "column4 = column4.repartition(10)\n",
        "\n",
        "data = column1.zip(column2).zip(column3).zip(column4).map(lambda a_b_c_d : (a_b_c_d[0][0][0], a_b_c_d[0][0][1], a_b_c_d[0][1], a_b_c_d[1]) )\n",
        "data.take(20)\n"
      ]
    },
    {
      "cell_type": "markdown",
      "metadata": {
        "id": "rUpVxnPJn-Vs"
      },
      "source": [
        "- Se calcúla la correlación usando la función corr"
      ]
    },
    {
      "cell_type": "code",
      "execution_count": 16,
      "metadata": {
        "colab": {
          "base_uri": "https://localhost:8080/"
        },
        "id": "vZ6QHsAmn9uN",
        "outputId": "e760415c-d570-4e90-f258-8834427aafe0"
      },
      "outputs": [
        {
          "name": "stderr",
          "output_type": "stream",
          "text": [
            "                                                                                \r"
          ]
        },
        {
          "name": "stdout",
          "output_type": "stream",
          "text": [
            "[[ 1.          1.         -1.          0.10275428]\n",
            " [ 1.          1.         -1.          0.10275428]\n",
            " [-1.         -1.          1.         -0.10275428]\n",
            " [ 0.10275428  0.10275428 -0.10275428  1.        ]]\n"
          ]
        },
        {
          "name": "stderr",
          "output_type": "stream",
          "text": [
            "                                                                                \r"
          ]
        }
      ],
      "source": [
        "from pyspark.mllib.stat import Statistics\n",
        "data_corr = Statistics.corr(data)\n",
        "print(data_corr)"
      ]
    },
    {
      "cell_type": "code",
      "execution_count": null,
      "metadata": {
        "id": "6gJrIMT7jjRq"
      },
      "outputs": [],
      "source": []
    },
    {
      "cell_type": "markdown",
      "metadata": {
        "id": "5QGyYHz8pMvX"
      },
      "source": [
        "###Paso 7: Visualizar los datos con un Spark DataFrame\n",
        "- Usando pandas"
      ]
    },
    {
      "cell_type": "code",
      "execution_count": 17,
      "metadata": {
        "colab": {
          "base_uri": "https://localhost:8080/"
        },
        "id": "O5s3sIuNu7DU",
        "outputId": "ddb826b0-bc50-484d-fa35-c794553a0870"
      },
      "outputs": [
        {
          "name": "stdout",
          "output_type": "stream",
          "text": [
            "          var1      var2      var3      var4\n",
            "var1  1.000000  1.000000 -1.000000  0.102754\n",
            "var2  1.000000  1.000000 -1.000000  0.102754\n",
            "var3 -1.000000 -1.000000  1.000000 -0.102754\n",
            "var4  0.102754  0.102754 -0.102754  1.000000\n"
          ]
        }
      ],
      "source": [
        "import pandas as pd\n",
        "variables = ['var1', 'var2', 'var3', 'var4']\n",
        "df_pandas = pd.DataFrame(data_corr,index=variables,columns=variables)\n",
        "print(df_pandas)"
      ]
    },
    {
      "cell_type": "code",
      "execution_count": 18,
      "metadata": {
        "colab": {
          "base_uri": "https://localhost:8080/"
        },
        "id": "d3lFOf5GopmI",
        "outputId": "b24d8d6c-3e31-45c7-f4fc-14f0e5041e4e"
      },
      "outputs": [
        {
          "name": "stdout",
          "output_type": "stream",
          "text": [
            "+-------------------+-------------------+--------------------+--------------------+\n",
            "|               var1|               var2|                var3|                var4|\n",
            "+-------------------+-------------------+--------------------+--------------------+\n",
            "|                1.0|                1.0|                -1.0| 0.10275427542754276|\n",
            "|                1.0|                1.0|                -1.0| 0.10275427542754276|\n",
            "|               -1.0|               -1.0|                 1.0|-0.10275427542754276|\n",
            "|0.10275427542754276|0.10275427542754276|-0.10275427542754276|                 1.0|\n",
            "+-------------------+-------------------+--------------------+--------------------+\n",
            "\n"
          ]
        }
      ],
      "source": [
        "df_spark = spark.createDataFrame(df_pandas)\n",
        "df_spark.show()"
      ]
    },
    {
      "cell_type": "markdown",
      "metadata": {
        "id": "403JYLt2Eu6a"
      },
      "source": [
        "# Parte 2. Parallel Matrix multiplication"
      ]
    },
    {
      "cell_type": "code",
      "execution_count": 20,
      "metadata": {
        "id": "sy0NNR44y4FC"
      },
      "outputs": [],
      "source": [
        "#!/usr/bin/env python3\n",
        "# +======================================================================+\n",
        "# |                                                                      |\n",
        "# | File: matrix_multiply.py                                             |\n",
        "# | Author: Jim Kelly | N9763686                                         |\n",
        "# | Purposes: This script has been created for the purposes of an        |\n",
        "# |      oral presentation for CAB401 High Performance and Parallel      |\n",
        "# |      Computing, Semester 2, 2021, at the Queensland University of    |\n",
        "# |      Technology (QUT). The script demonstrates a basic comparison    |\n",
        "# |      between the best sequential matrix multiplication with Python   |\n",
        "# |      and the parallelised implementation of matrix multiplication    |\n",
        "# |      using Apache-Spark's BlockMatrix.                               |\n",
        "# | Description: To change the matrix dimensions replace the value for   |\n",
        "# |      'N'. The script will first calculate the sequential values of   |\n",
        "# |      of two matrices populated with number N randomised values. The  |\n",
        "# |      script will then compute the same operation using Spark's       |\n",
        "# |      parallelisation methods, i.e. BlockMatrix.multiply().           |\n",
        "# +======================================================================+\n",
        "# | References:                                                          |\n",
        "# | as_block_matrix: Taken from Stack Overflow,                          |\n",
        "# |     How to Multiply Two Numpy Matrices in PySpark?,                  |\n",
        "# | 'https://stackoverflow.com/questions/42889965/multiply-two-numpy-    |\n",
        "# |     matrices-in-pyspark'                                             |\n",
        "# | indexrowmatrix_to_array: Taken from Stack Overflow,                  |\n",
        "# |     How to Convert a DistributedMatrix to Scipy Sparse or            |\n",
        "# |         Numpy Array,                                                 |\n",
        "# | 'https://stackoverflow.com/questions/54083978/convert-a-             |\n",
        "# |     distributedmatrix-to-scipy-sparse-or-numpy-array'                |\n",
        "# +======================================================================+\n",
        "# |                           Imports                                    |\n",
        "# +======================================================================+\n",
        "\n",
        "import random\n",
        "from timeit import default_timer as timer\n",
        "from scipy.sparse import lil_matrix\n",
        "from pyspark.sql import SparkSession\n",
        "from pyspark.mllib.linalg.distributed import *\n",
        "\n",
        "# +======================================================================+\n",
        "# |                         Start of File                                |\n",
        "# +======================================================================+\n",
        "\n"
      ]
    },
    {
      "cell_type": "code",
      "execution_count": 21,
      "metadata": {
        "colab": {
          "base_uri": "https://localhost:8080/"
        },
        "id": "dIfgpS4U2F7E",
        "outputId": "36838b29-13a4-429b-ca0c-f18c515e17de"
      },
      "outputs": [
        {
          "name": "stdout",
          "output_type": "stream",
          "text": [
            "Performing standard matrix multiplication\n",
            "Best Sequential execution time (seconds): 478.389513974\n"
          ]
        }
      ],
      "source": [
        "# Create and start Spark session\n",
        "app_name = 'PySpark Matrix Multiplication Example'\n",
        "master = 'local'\n",
        "spark = SparkSession.builder.appName(app_name).master(master).getOrCreate()\n",
        "spark.sparkContext.setLogLevel(\"ERROR\")\n",
        "\n",
        "# Define global variables\n",
        "N = 1500 # Matrix dimensions\n",
        "\n",
        "# Method to create a populated matrix of size N * N, with potential\n",
        "# values ranging from (max_value - 1) through to max_value.\n",
        "def create_matrix(size, max_value):\n",
        "    return [[random.randint((max_value * -1), max_value) for i in range(size)] \\\n",
        "            for j in range(size)]\n",
        "\n",
        "# Method to create a matrix populated with 0's of size N * N.\n",
        "def create_empty_matrix(size):\n",
        "    return [[0 for i in range(size)] for j in range(size)]\n",
        "\n",
        "# Method to multiply two matrices of the same dimensions, i.e. N * N.\n",
        "def matrix_multiply(A, B, C, size):\n",
        "    for i in range(size):\n",
        "        for j in range(size):\n",
        "            total = 0 # Initialise total to 0\n",
        "            for k in range(size):\n",
        "                total += A[i][k] * B[k][j] # Perform matrix multiply\n",
        "            C[i][j] = total\n",
        "\n",
        "    # Return the result of the matrix multiplication\n",
        "    return C\n",
        "\n",
        "# Initialise matrices\n",
        "A = create_matrix(N, 500)\n",
        "B = create_matrix(N, 500)\n",
        "C = create_empty_matrix(N)\n",
        "\n",
        "print('Performing standard matrix multiplication')\n",
        "\n",
        "# Perform and time matrix multiplication\n",
        "start = timer() #\n",
        "C = matrix_multiply(A, B, C, N) #\n",
        "end = timer() #\n",
        "\n",
        "# Print the execution time\n",
        "print('Best Sequential execution time (seconds):', end - start)\n",
        "\n"
      ]
    },
    {
      "cell_type": "markdown",
      "metadata": {
        "id": "IZMD4XRKFDX6"
      },
      "source": [
        "# Parallel version"
      ]
    },
    {
      "cell_type": "code",
      "execution_count": 22,
      "metadata": {
        "colab": {
          "base_uri": "https://localhost:8080/"
        },
        "id": "I5Uz6t_o2O2Q",
        "outputId": "5c21e690-626e-4591-aa8a-76334040d316"
      },
      "outputs": [
        {
          "name": "stderr",
          "output_type": "stream",
          "text": [
            "                                                                                \r"
          ]
        },
        {
          "name": "stdout",
          "output_type": "stream",
          "text": [
            "Apache Spark execution time (seconds): 16.808138985999904\n"
          ]
        },
        {
          "name": "stderr",
          "output_type": "stream",
          "text": [
            "                                                                                \r"
          ]
        }
      ],
      "source": [
        "# Method to convert a Resilient Distributed Dataset (RDD) to a BlockMatrix object\n",
        "def as_block_matrix(rdd, rows, columns):\n",
        "    return IndexedRowMatrix(\n",
        "        rdd.zipWithIndex().map(lambda i: IndexedRow(i[1], i[0]))\n",
        "    ).toBlockMatrix(rows, columns)\n",
        "\n",
        "# Method to convert an indexed row matrix to a local array using Scipy 'lil_matrix'\n",
        "def indexedrowmatrix_to_array(matrix):\n",
        "    # Create an empty array of the same dimensions as the matrix\n",
        "    result = lil_matrix((matrix.numRows(), matrix.numCols()))\n",
        "\n",
        "    # Iterate through each row and set values in the empty array\n",
        "    for indexed_row in matrix.rows.collect():\n",
        "        result[indexed_row.index] = indexed_row.vector\n",
        "\n",
        "    # Return the local array\n",
        "    return result\n",
        "\n",
        "\n",
        "# Convert arrays to RDDs\n",
        "A_rdd = spark.sparkContext.parallelize(A)\n",
        "B_rdd = spark.sparkContext.parallelize(B)\n",
        "\n",
        "# Perform and time matrix multiplication\n",
        "start = timer() #\n",
        "C_matrix = as_block_matrix(A_rdd, N, N).multiply(as_block_matrix(B_rdd, N, N)) #\n",
        "end = timer() #\n",
        "\n",
        "# Print the execution time\n",
        "print('Apache Spark execution time (seconds):', end - start)\n",
        "\n",
        "# Convert the resulting BlockMatrix to a local array\n",
        "result = indexedrowmatrix_to_array(C_matrix.toIndexedRowMatrix())\n",
        "\n",
        "# Print resulting matrix if it's not excessively large\n",
        "if N <= 4:\n",
        "    print(\"Printing sequential result matrix.\")\n",
        "    for row in C:\n",
        "        print(row)\n",
        "    print(\"Printing Spark result matrix\")\n",
        "    print(result)\n",
        "\n",
        "# +======================================================================+\n",
        "# |                           End of File                                |\n",
        "# +======================================================================+"
      ]
    },
    {
      "cell_type": "markdown",
      "metadata": {},
      "source": [
        "## Importar bibliotecas y configurar el entorno de Spark"
      ]
    },
    {
      "cell_type": "code",
      "execution_count": 4,
      "metadata": {},
      "outputs": [
        {
          "name": "stderr",
          "output_type": "stream",
          "text": [
            "your 131072x1 screen size is bogus. expect trouble\n",
            "23/11/07 17:17:39 WARN Utils: Your hostname, Nitro-Andre resolves to a loopback address: 127.0.1.1; using 172.22.45.199 instead (on interface eth0)\n",
            "23/11/07 17:17:39 WARN Utils: Set SPARK_LOCAL_IP if you need to bind to another address\n",
            "Setting default log level to \"WARN\".\n",
            "To adjust logging level use sc.setLogLevel(newLevel). For SparkR, use setLogLevel(newLevel).\n",
            "23/11/07 17:17:41 WARN NativeCodeLoader: Unable to load native-hadoop library for your platform... using builtin-java classes where applicable\n"
          ]
        }
      ],
      "source": [
        "import matplotlib.pyplot as plt\n",
        "from pyspark.mllib.linalg.distributed import IndexedRowMatrix\n",
        "from scipy.sparse import lil_matrix\n",
        "from timeit import default_timer as timer\n",
        "import numpy as np\n",
        "from pyspark.sql import SparkSession\n",
        "\n",
        "# Initialize Spark session\n",
        "spark = SparkSession.builder.appName(\"Matrix Multiplication Benchmark\").getOrCreate()\n",
        "spark.sparkContext.setLogLevel(\"ERROR\")"
      ]
    },
    {
      "cell_type": "markdown",
      "metadata": {},
      "source": [
        "## Definir funciones auxiliares y globales"
      ]
    },
    {
      "cell_type": "code",
      "execution_count": 5,
      "metadata": {},
      "outputs": [],
      "source": [
        "import random\n",
        "\n",
        "# Define a range of N values to test\n",
        "N_values = range(100, 2001, 100)  # Example: from 100 to 2000 with step 100\n",
        "\n",
        "# Initialize lists to store execution times for each N\n",
        "sequential_times = []\n",
        "parallel_times = []\n",
        "\n",
        "# Function to create a populated matrix\n",
        "def create_matrix(size, max_value):\n",
        "    return [[random.randint((max_value * -1), max_value) for _ in range(size)] for _ in range(size)]\n",
        "\n",
        "# Function to perform sequential matrix multiplication\n",
        "def sequential_matrix_multiply(A, B):\n",
        "    size = len(A)\n",
        "    C = [[0 for _ in range(size)] for _ in range(size)]\n",
        "    for i in range(size):\n",
        "        for j in range(size):\n",
        "            for k in range(size):\n",
        "                C[i][j] += A[i][k] * B[k][j]\n",
        "    return C"
      ]
    },
    {
      "cell_type": "markdown",
      "metadata": {},
      "source": [
        "## Realizar pruebas de multiplicación de matrices y registrar tiempos"
      ]
    },
    {
      "cell_type": "code",
      "execution_count": 8,
      "metadata": {},
      "outputs": [
        {
          "name": "stdout",
          "output_type": "stream",
          "text": [
            "N = 100 completed.\n",
            "Sequential execution time (seconds): 0.1298335029998725\n",
            "Parallel execution time (seconds): 2.6870687460000227\n"
          ]
        },
        {
          "name": "stderr",
          "output_type": "stream",
          "text": [
            "                                                                                \r"
          ]
        },
        {
          "name": "stdout",
          "output_type": "stream",
          "text": [
            "N = 200 completed.\n",
            "Sequential execution time (seconds): 1.1011958190001678\n",
            "Parallel execution time (seconds): 2.7066650469998876\n",
            "N = 300 completed.\n",
            "Sequential execution time (seconds): 3.54711240000006\n",
            "Parallel execution time (seconds): 2.7079124919998776\n"
          ]
        },
        {
          "name": "stderr",
          "output_type": "stream",
          "text": [
            "                                                                                \r"
          ]
        },
        {
          "name": "stdout",
          "output_type": "stream",
          "text": [
            "N = 400 completed.\n",
            "Sequential execution time (seconds): 8.714890259999947\n",
            "Parallel execution time (seconds): 3.632566463999865\n"
          ]
        },
        {
          "name": "stderr",
          "output_type": "stream",
          "text": [
            "                                                                                \r"
          ]
        },
        {
          "name": "stdout",
          "output_type": "stream",
          "text": [
            "N = 500 completed.\n",
            "Sequential execution time (seconds): 18.393418653000026\n",
            "Parallel execution time (seconds): 6.459191979000025\n"
          ]
        },
        {
          "name": "stderr",
          "output_type": "stream",
          "text": [
            "                                                                                \r"
          ]
        },
        {
          "name": "stdout",
          "output_type": "stream",
          "text": [
            "N = 600 completed.\n",
            "Sequential execution time (seconds): 35.962940419999995\n",
            "Parallel execution time (seconds): 4.044513697000184\n"
          ]
        },
        {
          "name": "stderr",
          "output_type": "stream",
          "text": [
            "                                                                                \r"
          ]
        },
        {
          "name": "stdout",
          "output_type": "stream",
          "text": [
            "N = 700 completed.\n",
            "Sequential execution time (seconds): 59.0339240039998\n",
            "Parallel execution time (seconds): 4.290410566999981\n"
          ]
        },
        {
          "name": "stderr",
          "output_type": "stream",
          "text": [
            "                                                                                \r"
          ]
        },
        {
          "name": "stdout",
          "output_type": "stream",
          "text": [
            "N = 800 completed.\n",
            "Sequential execution time (seconds): 82.18997265300004\n",
            "Parallel execution time (seconds): 6.441696933000003\n"
          ]
        },
        {
          "name": "stderr",
          "output_type": "stream",
          "text": [
            "                                                                                \r"
          ]
        },
        {
          "name": "stdout",
          "output_type": "stream",
          "text": [
            "N = 900 completed.\n",
            "Sequential execution time (seconds): 127.27540971300004\n",
            "Parallel execution time (seconds): 5.459808568000199\n"
          ]
        },
        {
          "name": "stderr",
          "output_type": "stream",
          "text": [
            "                                                                                \r"
          ]
        },
        {
          "name": "stdout",
          "output_type": "stream",
          "text": [
            "N = 1000 completed.\n",
            "Sequential execution time (seconds): 170.14140754699997\n",
            "Parallel execution time (seconds): 5.057952443999966\n"
          ]
        },
        {
          "name": "stderr",
          "output_type": "stream",
          "text": [
            "                                                                                \r"
          ]
        },
        {
          "name": "stdout",
          "output_type": "stream",
          "text": [
            "N = 1100 completed.\n",
            "Sequential execution time (seconds): 211.1887888020001\n",
            "Parallel execution time (seconds): 8.326170647999788\n"
          ]
        },
        {
          "name": "stderr",
          "output_type": "stream",
          "text": [
            "                                                                                \r"
          ]
        },
        {
          "name": "stdout",
          "output_type": "stream",
          "text": [
            "N = 1200 completed.\n",
            "Sequential execution time (seconds): 296.20475079200014\n",
            "Parallel execution time (seconds): 6.997296249999636\n"
          ]
        },
        {
          "name": "stderr",
          "output_type": "stream",
          "text": [
            "                                                                                \r"
          ]
        },
        {
          "name": "stdout",
          "output_type": "stream",
          "text": [
            "N = 1300 completed.\n",
            "Sequential execution time (seconds): 409.09658571399996\n",
            "Parallel execution time (seconds): 9.845544064000023\n"
          ]
        },
        {
          "name": "stderr",
          "output_type": "stream",
          "text": [
            "                                                                                \r"
          ]
        },
        {
          "name": "stdout",
          "output_type": "stream",
          "text": [
            "N = 1400 completed.\n",
            "Sequential execution time (seconds): 460.68594484999994\n",
            "Parallel execution time (seconds): 7.9177809480002\n"
          ]
        },
        {
          "name": "stderr",
          "output_type": "stream",
          "text": [
            "                                                                                \r"
          ]
        },
        {
          "name": "stdout",
          "output_type": "stream",
          "text": [
            "N = 1500 completed.\n",
            "Sequential execution time (seconds): 582.266550159\n",
            "Parallel execution time (seconds): 8.48632118200021\n"
          ]
        },
        {
          "name": "stderr",
          "output_type": "stream",
          "text": [
            "                                                                                \r"
          ]
        },
        {
          "name": "stdout",
          "output_type": "stream",
          "text": [
            "N = 1600 completed.\n",
            "Sequential execution time (seconds): 702.3909716779999\n",
            "Parallel execution time (seconds): 9.220101730999886\n"
          ]
        },
        {
          "name": "stderr",
          "output_type": "stream",
          "text": [
            "                                                                                \r"
          ]
        },
        {
          "name": "stdout",
          "output_type": "stream",
          "text": [
            "N = 1700 completed.\n",
            "Sequential execution time (seconds): 899.0555198920001\n",
            "Parallel execution time (seconds): 10.020584799999597\n"
          ]
        },
        {
          "name": "stderr",
          "output_type": "stream",
          "text": [
            "                                                                                \r"
          ]
        },
        {
          "name": "stdout",
          "output_type": "stream",
          "text": [
            "N = 1800 completed.\n",
            "Sequential execution time (seconds): 1037.1540791810003\n",
            "Parallel execution time (seconds): 10.575425760000144\n"
          ]
        },
        {
          "name": "stderr",
          "output_type": "stream",
          "text": [
            "                                                                                \r"
          ]
        },
        {
          "name": "stdout",
          "output_type": "stream",
          "text": [
            "N = 1900 completed.\n",
            "Sequential execution time (seconds): 1075.5356089590005\n",
            "Parallel execution time (seconds): 9.004407160000483\n"
          ]
        },
        {
          "name": "stderr",
          "output_type": "stream",
          "text": [
            "[Stage 347:>                                                        (0 + 4) / 4]\r"
          ]
        },
        {
          "name": "stdout",
          "output_type": "stream",
          "text": [
            "N = 2000 completed.\n",
            "Sequential execution time (seconds): 1338.2473968329996\n",
            "Parallel execution time (seconds): 8.985066985998856\n"
          ]
        },
        {
          "name": "stderr",
          "output_type": "stream",
          "text": [
            "                                                                                \r"
          ]
        }
      ],
      "source": [
        "# Loop over each N value, perform matrix multiplication, and record execution times\n",
        "for N in N_values:\n",
        "    # Create matrices A and B\n",
        "    A = create_matrix(N, 500)\n",
        "    B = create_matrix(N, 500)\n",
        "\n",
        "    # Sequential matrix multiplication\n",
        "    start = timer()\n",
        "    C = sequential_matrix_multiply(A, B)\n",
        "    end = timer()\n",
        "    sequential_times.append(end - start)\n",
        "\n",
        "    # Parallel matrix multiplication\n",
        "    A_rdd = spark.sparkContext.parallelize(A)\n",
        "    B_rdd = spark.sparkContext.parallelize(B)\n",
        "    start = timer()\n",
        "    C_matrix = IndexedRowMatrix(A_rdd.zipWithIndex().map(lambda xi: (xi[1], xi[0]))).toBlockMatrix().multiply(IndexedRowMatrix(B_rdd.zipWithIndex().map(lambda xi: (xi[1], xi[0]))).toBlockMatrix())\n",
        "    end = timer()\n",
        "    parallel_times.append(end - start)\n",
        "    print(\"N = {} completed.\".format(N))\n",
        "    print(\"Sequential execution time (seconds): {}\".format(sequential_times[-1]))\n",
        "    print(\"Parallel execution time (seconds): {}\".format(parallel_times[-1]))"
      ]
    },
    {
      "cell_type": "markdown",
      "metadata": {},
      "source": [
        "## Graficar resultados y buscar puntos de interés"
      ]
    },
    {
      "cell_type": "code",
      "execution_count": 12,
      "metadata": {},
      "outputs": [
        {
          "data": {
            "image/png": "[encoded data removed]",
            "text/plain": [
              "<Figure size 640x480 with 1 Axes>"
            ]
          },
          "metadata": {},
          "output_type": "display_data"
        },
        {
          "name": "stdout",
          "output_type": "stream",
          "text": [
            "Intersection at N=100\n",
            "Parallel time reaches 5 minutes at N=None\n"
          ]
        }
      ],
      "source": [
        "import matplotlib.pyplot as plt\n",
        "\n",
        "# Plotting only up to the minimum length of the three lists\n",
        "min_length = min(len(N_values), len(sequential_times), len(parallel_times))\n",
        "\n",
        "# Plot the curves using the minimum length\n",
        "plt.plot(N_values[:min_length], sequential_times[:min_length], label='Sequential')\n",
        "plt.plot(N_values[:min_length], parallel_times[:min_length], label='Parallel')\n",
        "plt.xlabel('N (Matrix size)')\n",
        "plt.ylabel('Time (seconds)')\n",
        "plt.legend()\n",
        "plt.title('Matrix Multiplication Benchmark')\n",
        "plt.show()\n",
        "\n",
        "# Find intersection and five-minute mark using the minimum length\n",
        "# This will only consider the range of N where both sequential and parallel times are available\n",
        "if min_length > 0:\n",
        "    pairs = list(zip(N_values, sequential_times, parallel_times))[:min_length]\n",
        "    cross_point = next((N for N, t_seq, t_par in pairs if t_seq <= t_par), None)\n",
        "    five_minutes_N = next((N for N, _, t_par in pairs if t_par >= 300), None)  # Corrected unpacking here\n",
        "else:\n",
        "    cross_point = None\n",
        "    five_minutes_N = None\n",
        "\n",
        "print(f\"Intersection at N={cross_point}\")\n",
        "print(f\"Parallel time reaches 5 minutes at N={five_minutes_N}\")"
      ]
    },
    {
      "cell_type": "markdown",
      "metadata": {},
      "source": [
        "## N= None ya que se hizo todo el dataset"
      ]
    },
    {
      "cell_type": "markdown",
      "metadata": {},
      "source": [
        "## Estimación de funciones de tiempo de ejecución"
      ]
    },
    {
      "cell_type": "code",
      "execution_count": 14,
      "metadata": {},
      "outputs": [
        {
          "name": "stdout",
          "output_type": "stream",
          "text": [
            "Predicted sequential time for N=1000: 11.999033883195409 seconds\n",
            "Predicted parallel time for N=1000: 3.1754671103481167 seconds\n"
          ]
        }
      ],
      "source": [
        "# import numpy as np\n",
        "\n",
        "# Ensuring that all arrays are of the same length for polyfit\n",
        "min_length = min(len(N_values), len(sequential_times), len(parallel_times))\n",
        "N_values_fit = N_values[:min_length]\n",
        "sequential_times_fit = sequential_times[:min_length]\n",
        "parallel_times_fit = parallel_times[:min_length]\n",
        "\n",
        "# Estimating functions fs and fp for Ts and Tp\n",
        "sequential_coeffs = np.polyfit(N_values_fit, sequential_times_fit, 2)\n",
        "parallel_coeffs = np.polyfit(N_values_fit, parallel_times_fit, 2)\n",
        "\n",
        "# Define the estimated functions using the coefficients\n",
        "def fs(N, coeffs):\n",
        "    return coeffs[0] * N**2 + coeffs[1] * N + coeffs[2]\n",
        "\n",
        "def fp(N, coeffs):\n",
        "    return coeffs[0] * N**2 + coeffs[1] * N + coeffs[2]\n",
        "\n",
        "# Example usage\n",
        "N_example = 1000\n",
        "predicted_Ts = fs(N_example, sequential_coeffs)\n",
        "predicted_Tp = fp(N_example, parallel_coeffs)\n",
        "\n",
        "print(f\"Predicted sequential time for N={N_example}: {predicted_Ts} seconds\")\n",
        "print(f\"Predicted parallel time for N={N_example}: {predicted_Tp} seconds\")"
      ]
    },
    {
      "cell_type": "markdown",
      "metadata": {},
      "source": [
        " ## Es posible estimar la función fs y fp, tal que Ts = fs(N), y Tp = fp(N),pero se requiere una combinación de análisis empírico y teórico, junto con una comprensión detallada del algoritmo y del entorno de hardware en el que se ejecuta."
      ]
    }
  ],
  "metadata": {
    "colab": {
      "collapsed_sections": [
        "jLkMAuve2BTg",
        "uXvfcRVR2fob",
        "xO_FPJnpfpX7",
        "GPfEncRrhmz6"
      ],
      "provenance": []
    },
    "kernelspec": {
      "display_name": "Python 3",
      "name": "python3"
    },
    "language_info": {
      "codemirror_mode": {
        "name": "ipython",
        "version": 3
      },
      "file_extension": ".py",
      "mimetype": "text/x-python",
      "name": "python",
      "nbconvert_exporter": "python",
      "pygments_lexer": "ipython3",
      "version": "3.8.10"
    }
  },
  "nbformat": 4,
  "nbformat_minor": 0
}
